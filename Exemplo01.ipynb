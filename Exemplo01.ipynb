{
  "nbformat": 4,
  "nbformat_minor": 0,
  "metadata": {
    "colab": {
      "name": "Exemplo01.ipynb",
      "provenance": [],
      "collapsed_sections": [],
      "authorship_tag": "ABX9TyPbdXdF7Wd9ZljJ2vr++/gJ",
      "include_colab_link": true
    },
    "kernelspec": {
      "name": "python3",
      "display_name": "Python 3"
    }
  },
  "cells": [
    {
      "cell_type": "markdown",
      "metadata": {
        "id": "view-in-github",
        "colab_type": "text"
      },
      "source": [
        "<a href=\"https://colab.research.google.com/github/iagolima1998/repo01/blob/master/Exemplo01.ipynb\" target=\"_parent\"><img src=\"https://colab.research.google.com/assets/colab-badge.svg\" alt=\"Open In Colab\"/></a>"
      ]
    },
    {
      "cell_type": "code",
      "metadata": {
        "id": "bztwC1hiw9vL",
        "colab_type": "code",
        "colab": {
          "base_uri": "https://localhost:8080/",
          "height": 68
        },
        "outputId": "51e4dc3f-b55a-49ee-f129-2d7a25938225"
      },
      "source": [
        "### isto é um comando de saída\n",
        "print('Olá Mundo Cruel!!!');\n",
        "print('Cruel World!!!');\n",
        "print('\"aspas duplas\"');\n",
        "\n",
        "# a hastag é um comentário no código, ou seja, o programa não irá processar nenhuma linha que estiver marcada.\n",
        "# o comando print() mostra na tela, ou seja, é uma saída de valor(es).\n",
        "# O conteúdo texto deve estar entre aspas (simples ou dupla)."
      ],
      "execution_count": 3,
      "outputs": [
        {
          "output_type": "stream",
          "text": [
            "Olá Mundo Cruel!!!\n",
            "Cruel World!!!\n",
            "\"aspas duplas\"\n"
          ],
          "name": "stdout"
        }
      ]
    },
    {
      "cell_type": "markdown",
      "metadata": {
        "id": "JYwjkmmc4mlC",
        "colab_type": "text"
      },
      "source": [
        "Esta é uma celula somente de texto. Aqui posso fazer uma formatação usando as ferramentas que estão na na barra. Por exemplo, **isto está em negrito**. *Isto é itálico*."
      ]
    },
    {
      "cell_type": "markdown",
      "metadata": {
        "id": "o6S9I3Vd5OOb",
        "colab_type": "text"
      },
      "source": [
        "Abaixo, vamos ver como mesclar uma saída de tela"
      ]
    },
    {
      "cell_type": "code",
      "metadata": {
        "id": "es4rkszw5UyC",
        "colab_type": "code",
        "colab": {
          "base_uri": "https://localhost:8080/",
          "height": 34
        },
        "outputId": "85e8e537-540a-4819-e367-22713917e744"
      },
      "source": [
        "print('Iago', 'Lima', 'Santos')"
      ],
      "execution_count": 4,
      "outputs": [
        {
          "output_type": "stream",
          "text": [
            "Iago Lima Santos\n"
          ],
          "name": "stdout"
        }
      ]
    }
  ]
}